{
 "cells": [
  {
   "cell_type": "code",
   "execution_count": 104,
   "metadata": {},
   "outputs": [],
   "source": [
    "import numpy as np\n",
    "import pandas as pd \n",
    "import matplotlib.pyplot as plt \n",
    "import matplotlib.colors as colors \n",
    "%matplotlib inline "
   ]
  },
  {
   "cell_type": "code",
   "execution_count": 105,
   "metadata": {},
   "outputs": [
    {
     "name": "stdout",
     "output_type": "stream",
     "text": [
      "c:/jhigh/Projects/transects_greatmarsh_rtk_edited2.csv\n"
     ]
    }
   ],
   "source": [
    "dirn=\"c:/jhigh/Projects/\"\n",
    "fn=\"transects_greatmarsh_rtk_edited2.csv\"\n",
    "print(dirn + fn)\n",
    "fullpathn = dirn + fn"
   ]
  },
  {
   "cell_type": "code",
   "execution_count": 106,
   "metadata": {},
   "outputs": [
    {
     "name": "stdout",
     "output_type": "stream",
     "text": [
      "Read:  235  lines.\n"
     ]
    }
   ],
   "source": [
    "df=pd.read_csv(fn, header = 0, skiprows=0, delimiter=',')\n",
    "print(\"Read: \",len(df.index),' lines.')"
   ]
  },
  {
   "cell_type": "code",
   "execution_count": 107,
   "metadata": {},
   "outputs": [],
   "source": [
    "df['Elevation Difference'] = df['interp_Z'] - df['Local_Z'] "
   ]
  },
  {
   "cell_type": "code",
   "execution_count": 108,
   "metadata": {},
   "outputs": [
    {
     "data": {
      "text/html": [
       "<div>\n",
       "<style scoped>\n",
       "    .dataframe tbody tr th:only-of-type {\n",
       "        vertical-align: middle;\n",
       "    }\n",
       "\n",
       "    .dataframe tbody tr th {\n",
       "        vertical-align: top;\n",
       "    }\n",
       "\n",
       "    .dataframe thead th {\n",
       "        text-align: right;\n",
       "    }\n",
       "</style>\n",
       "<table border=\"1\" class=\"dataframe\">\n",
       "  <thead>\n",
       "    <tr style=\"text-align: right;\">\n",
       "      <th></th>\n",
       "      <th>Point ID</th>\n",
       "      <th>Local_N</th>\n",
       "      <th>Local_E</th>\n",
       "      <th>Local_Z</th>\n",
       "      <th>interp_Z</th>\n",
       "      <th>Elevation Difference</th>\n",
       "    </tr>\n",
       "  </thead>\n",
       "  <tbody>\n",
       "    <tr>\n",
       "      <th>count</th>\n",
       "      <td>235.000000</td>\n",
       "      <td>2.350000e+02</td>\n",
       "      <td>235.000000</td>\n",
       "      <td>235.000000</td>\n",
       "      <td>235.000000</td>\n",
       "      <td>235.000000</td>\n",
       "    </tr>\n",
       "    <tr>\n",
       "      <th>mean</th>\n",
       "      <td>126.051064</td>\n",
       "      <td>4.621207e+06</td>\n",
       "      <td>386110.943208</td>\n",
       "      <td>4.331120</td>\n",
       "      <td>4.410966</td>\n",
       "      <td>0.079846</td>\n",
       "    </tr>\n",
       "    <tr>\n",
       "      <th>std</th>\n",
       "      <td>70.292228</td>\n",
       "      <td>2.601504e+02</td>\n",
       "      <td>148.778683</td>\n",
       "      <td>3.243622</td>\n",
       "      <td>3.237115</td>\n",
       "      <td>0.054261</td>\n",
       "    </tr>\n",
       "    <tr>\n",
       "      <th>min</th>\n",
       "      <td>5.000000</td>\n",
       "      <td>4.620627e+06</td>\n",
       "      <td>385862.809500</td>\n",
       "      <td>-0.900000</td>\n",
       "      <td>-0.927630</td>\n",
       "      <td>-0.077930</td>\n",
       "    </tr>\n",
       "    <tr>\n",
       "      <th>25%</th>\n",
       "      <td>66.000000</td>\n",
       "      <td>4.621087e+06</td>\n",
       "      <td>385986.562550</td>\n",
       "      <td>1.698000</td>\n",
       "      <td>1.830970</td>\n",
       "      <td>0.046800</td>\n",
       "    </tr>\n",
       "    <tr>\n",
       "      <th>50%</th>\n",
       "      <td>126.000000</td>\n",
       "      <td>4.621231e+06</td>\n",
       "      <td>386108.424400</td>\n",
       "      <td>2.969000</td>\n",
       "      <td>3.018600</td>\n",
       "      <td>0.067300</td>\n",
       "    </tr>\n",
       "    <tr>\n",
       "      <th>75%</th>\n",
       "      <td>185.500000</td>\n",
       "      <td>4.621393e+06</td>\n",
       "      <td>386195.934950</td>\n",
       "      <td>6.332700</td>\n",
       "      <td>6.407500</td>\n",
       "      <td>0.101050</td>\n",
       "    </tr>\n",
       "    <tr>\n",
       "      <th>max</th>\n",
       "      <td>248.000000</td>\n",
       "      <td>4.621627e+06</td>\n",
       "      <td>386414.320800</td>\n",
       "      <td>15.370000</td>\n",
       "      <td>15.364600</td>\n",
       "      <td>0.327100</td>\n",
       "    </tr>\n",
       "  </tbody>\n",
       "</table>\n",
       "</div>"
      ],
      "text/plain": [
       "         Point ID       Local_N        Local_E     Local_Z    interp_Z  \\\n",
       "count  235.000000  2.350000e+02     235.000000  235.000000  235.000000   \n",
       "mean   126.051064  4.621207e+06  386110.943208    4.331120    4.410966   \n",
       "std     70.292228  2.601504e+02     148.778683    3.243622    3.237115   \n",
       "min      5.000000  4.620627e+06  385862.809500   -0.900000   -0.927630   \n",
       "25%     66.000000  4.621087e+06  385986.562550    1.698000    1.830970   \n",
       "50%    126.000000  4.621231e+06  386108.424400    2.969000    3.018600   \n",
       "75%    185.500000  4.621393e+06  386195.934950    6.332700    6.407500   \n",
       "max    248.000000  4.621627e+06  386414.320800   15.370000   15.364600   \n",
       "\n",
       "       Elevation Difference  \n",
       "count            235.000000  \n",
       "mean               0.079846  \n",
       "std                0.054261  \n",
       "min               -0.077930  \n",
       "25%                0.046800  \n",
       "50%                0.067300  \n",
       "75%                0.101050  \n",
       "max                0.327100  "
      ]
     },
     "execution_count": 108,
     "metadata": {},
     "output_type": "execute_result"
    }
   ],
   "source": [
    "df.describe()"
   ]
  },
  {
   "cell_type": "code",
   "execution_count": 109,
   "metadata": {},
   "outputs": [
    {
     "data": {
      "text/plain": [
       "array([[<matplotlib.axes._subplots.AxesSubplot object at 0x000001E6BF501320>]],\n",
       "      dtype=object)"
      ]
     },
     "execution_count": 109,
     "metadata": {},
     "output_type": "execute_result"
    },
    {
     "data": {
      "image/png": "[encoded data removed]",
      "text/plain": [
       "<Figure size 432x288 with 1 Axes>"
      ]
     },
     "metadata": {
      "needs_background": "light"
     },
     "output_type": "display_data"
    }
   ],
   "source": [
    "df.hist(column =\"Elevation Difference\")"
   ]
  },
  {
   "cell_type": "code",
   "execution_count": 110,
   "metadata": {},
   "outputs": [
    {
     "data": {
      "text/plain": [
       "<matplotlib.axes._subplots.AxesSubplot at 0x1e6bed76048>"
      ]
     },
     "execution_count": 110,
     "metadata": {},
     "output_type": "execute_result"
    },
    {
     "data": {
      "image/png": "[encoded data removed]",
      "text/plain": [
       "<Figure size 432x288 with 1 Axes>"
      ]
     },
     "metadata": {
      "needs_background": "light"
     },
     "output_type": "display_data"
    }
   ],
   "source": [
    "df.plot(x='Local_Z', y='interp_Z', style=\"o\")"
   ]
  },
  {
   "cell_type": "code",
   "execution_count": 111,
   "metadata": {},
   "outputs": [
    {
     "data": {
      "text/plain": [
       "<matplotlib.axes._subplots.AxesSubplot at 0x1e6bf320588>"
      ]
     },
     "execution_count": 111,
     "metadata": {},
     "output_type": "execute_result"
    },
    {
     "data": {
      "image/png": "[encoded data removed]",
      "text/plain": [
       "<Figure size 432x288 with 2 Axes>"
      ]
     },
     "metadata": {
      "needs_background": "light"
     },
     "output_type": "display_data"
    }
   ],
   "source": [
    "df.plot(kind='scatter', x='Local_E', y='Local_N', c=\"Elevation Difference\", cmap= \"jet\")"
   ]
  },
  {
   "cell_type": "code",
   "execution_count": 112,
   "metadata": {},
   "outputs": [
    {
     "name": "stdout",
     "output_type": "stream",
     "text": [
      "c:/jhigh/Projects/transects_greatmarsh_rtk_edited2_with_Classification.csv\n"
     ]
    }
   ],
   "source": [
    "dirn=\"c:/jhigh/Projects/\"\n",
    "fn2=\"transects_greatmarsh_rtk_edited2_with_Classification.csv\"\n",
    "print(dirn + fn2)\n",
    "fullpathn2 = dirn + fn2"
   ]
  },
  {
   "cell_type": "code",
   "execution_count": 113,
   "metadata": {},
   "outputs": [
    {
     "name": "stdout",
     "output_type": "stream",
     "text": [
      "Read:  235 lines.\n"
     ]
    }
   ],
   "source": [
    "df2= pd.read_csv(fullpathn2, header=0, skiprows=0, delimiter=\",\")\n",
    "print(\"Read: \", len(df2.index), \"lines.\")"
   ]
  },
  {
   "cell_type": "code",
   "execution_count": 114,
   "metadata": {},
   "outputs": [
    {
     "data": {
      "text/plain": [
       "0      6\n",
       "1      6\n",
       "2      6\n",
       "3      5\n",
       "4      5\n",
       "5      5\n",
       "6      5\n",
       "7      5\n",
       "8      5\n",
       "9      5\n",
       "10     5\n",
       "11     5\n",
       "12     5\n",
       "13     5\n",
       "14     3\n",
       "15     5\n",
       "16     5\n",
       "17     5\n",
       "18     5\n",
       "19     5\n",
       "20     5\n",
       "21     3\n",
       "22     5\n",
       "23     5\n",
       "24     5\n",
       "25     5\n",
       "26     5\n",
       "27     5\n",
       "28     5\n",
       "29     5\n",
       "      ..\n",
       "205    4\n",
       "206    5\n",
       "207    4\n",
       "208    4\n",
       "209    5\n",
       "210    5\n",
       "211    5\n",
       "212    5\n",
       "213    5\n",
       "214    5\n",
       "215    5\n",
       "216    5\n",
       "217    5\n",
       "218    5\n",
       "219    5\n",
       "220    5\n",
       "221    5\n",
       "222    6\n",
       "223    6\n",
       "224    6\n",
       "225    6\n",
       "226    6\n",
       "227    7\n",
       "228    7\n",
       "229    8\n",
       "230    8\n",
       "231    7\n",
       "232    6\n",
       "233    6\n",
       "234    6\n",
       "Name: Classification, Length: 235, dtype: int64"
      ]
     },
     "execution_count": 114,
     "metadata": {},
     "output_type": "execute_result"
    }
   ],
   "source": [
    "df2[\"Classification\"]"
   ]
  },
  {
   "cell_type": "code",
   "execution_count": 115,
   "metadata": {},
   "outputs": [],
   "source": [
    "df2['Elevation Difference'] = df['interp_Z'] - df['Local_Z'] "
   ]
  },
  {
   "cell_type": "code",
   "execution_count": 116,
   "metadata": {},
   "outputs": [],
   "source": [
    "x = df2[\"Elevation Difference\"].values"
   ]
  },
  {
   "cell_type": "code",
   "execution_count": 117,
   "metadata": {},
   "outputs": [],
   "source": [
    "y = df2[\"Local_Z\"].values"
   ]
  },
  {
   "cell_type": "code",
   "execution_count": 118,
   "metadata": {},
   "outputs": [],
   "source": [
    "z = df2[\"Classification\"].values"
   ]
  },
  {
   "cell_type": "code",
   "execution_count": 119,
   "metadata": {},
   "outputs": [
    {
     "data": {
      "image/png": "[encoded data removed]",
      "text/plain": [
       "<Figure size 576x432 with 2 Axes>"
      ]
     },
     "metadata": {
      "needs_background": "light"
     },
     "output_type": "display_data"
    }
   ],
   "source": [
    "#TODO bigger dots,better colormap, and change color bar into a discrete (blocks) color bar instead of continuous (google around)\n",
    "plt.figure(figsize=(8,6))\n",
    "plt.scatter(y, x, 30, z, cmap=\"gist_earth\")\n",
    "plt.colorbar()\n",
    "plt.xlabel(\"Elevation(m)\")\n",
    "plt.ylabel(\"DEM-Transect(m)\")\n",
    "plt.savefig(\"DEM-Transect_vs_Elev_Scatter_Plot.png\")"
   ]
  },
  {
   "cell_type": "code",
   "execution_count": 120,
   "metadata": {},
   "outputs": [
    {
     "data": {
      "text/plain": [
       "0.14327186046511625"
      ]
     },
     "execution_count": 120,
     "metadata": {},
     "output_type": "execute_result"
    }
   ],
   "source": [
    "df2[\"Elevation Difference\"].loc[df2[\"Classification\"]==1].mean()"
   ]
  },
  {
   "cell_type": "code",
   "execution_count": 121,
   "metadata": {},
   "outputs": [
    {
     "data": {
      "text/plain": [
       "count    43.000000\n",
       "mean      0.143272\n",
       "std       0.065538\n",
       "min       0.036900\n",
       "25%       0.084615\n",
       "50%       0.153540\n",
       "75%       0.177645\n",
       "max       0.327100\n",
       "Name: Elevation Difference, dtype: float64"
      ]
     },
     "execution_count": 121,
     "metadata": {},
     "output_type": "execute_result"
    }
   ],
   "source": [
    "df2[\"Elevation Difference\"].loc[df2[\"Classification\"]==1].describe()"
   ]
  },
  {
   "cell_type": "code",
   "execution_count": 122,
   "metadata": {},
   "outputs": [
    {
     "data": {
      "text/plain": [
       "{0: 'Target',\n",
       " 1: 'Salt Marsh Grass',\n",
       " 2: 'Dirt or Vegetated Road',\n",
       " 3: 'Dark Dune Vegetation',\n",
       " 4: 'Sand(sandy road)',\n",
       " 5: 'Sand(dunes)',\n",
       " 6: 'Sand(beach)',\n",
       " 7: 'Wet Sand',\n",
       " 8: 'Submerged Sand'}"
      ]
     },
     "execution_count": 122,
     "metadata": {},
     "output_type": "execute_result"
    }
   ],
   "source": [
    "classes = {0:\"Target\",\n",
    "           1:\"Salt Marsh Grass\",\n",
    "           2:\"Dirt or Vegetated Road\",\n",
    "           3:\"Dark Dune Vegetation\",\n",
    "           4:\"Sand(sandy road)\",\n",
    "           5:\"Sand(dunes)\",\n",
    "           6:\"Sand(beach)\",\n",
    "           7:\"Wet Sand\",\n",
    "           8:\"Submerged Sand\",\n",
    "          }\n",
    "classes"
   ]
  },
  {
   "cell_type": "code",
   "execution_count": 123,
   "metadata": {},
   "outputs": [
    {
     "name": "stdout",
     "output_type": "stream",
     "text": [
      "0 Target\n",
      "count    1.00000\n",
      "mean     0.11299\n",
      "std          NaN\n",
      "min      0.11299\n",
      "25%      0.11299\n",
      "50%      0.11299\n",
      "75%      0.11299\n",
      "max      0.11299\n",
      "Name: Elevation Difference, dtype: float64\n",
      "rmse= 0.11298999999999992\n",
      "1 Salt Marsh Grass\n",
      "count    43.000000\n",
      "mean      0.143272\n",
      "std       0.065538\n",
      "min       0.036900\n",
      "25%       0.084615\n",
      "50%       0.153540\n",
      "75%       0.177645\n",
      "max       0.327100\n",
      "Name: Elevation Difference, dtype: float64\n",
      "rmse= 0.1572329382691304\n",
      "2 Dirt or Vegetated Road\n",
      "count    3.000000\n",
      "mean     0.074463\n",
      "std      0.010925\n",
      "min      0.064190\n",
      "25%      0.068725\n",
      "50%      0.073260\n",
      "75%      0.079600\n",
      "max      0.085940\n",
      "Name: Elevation Difference, dtype: float64\n",
      "rmse= 0.07499570498813032\n",
      "3 Dark Dune Vegetation\n",
      "count    3.000000\n",
      "mean     0.093167\n",
      "std      0.010345\n",
      "min      0.081700\n",
      "25%      0.088850\n",
      "50%      0.096000\n",
      "75%      0.098900\n",
      "max      0.101800\n",
      "Name: Elevation Difference, dtype: float64\n",
      "rmse= 0.09354879297279473\n",
      "4 Sand(sandy road)\n",
      "count    14.000000\n",
      "mean      0.060861\n",
      "std       0.027508\n",
      "min       0.026120\n",
      "25%       0.044443\n",
      "50%       0.055680\n",
      "75%       0.072335\n",
      "max       0.114650\n",
      "Name: Elevation Difference, dtype: float64\n",
      "rmse= 0.06638280064465915\n",
      "5 Sand(dunes)\n",
      "count    155.000000\n",
      "mean       0.069155\n",
      "std        0.037864\n",
      "min       -0.025150\n",
      "25%        0.045730\n",
      "50%        0.062190\n",
      "75%        0.087720\n",
      "max        0.219840\n",
      "Name: Elevation Difference, dtype: float64\n",
      "rmse= 0.0787831355582342\n",
      "6 Sand(beach)\n",
      "count    11.000000\n",
      "mean      0.046374\n",
      "std       0.033999\n",
      "min      -0.002200\n",
      "25%       0.020290\n",
      "50%       0.045100\n",
      "75%       0.062555\n",
      "max       0.107300\n",
      "Name: Elevation Difference, dtype: float64\n",
      "rmse= 0.05658072166061831\n",
      "7 Wet Sand\n",
      "count    3.000000\n",
      "mean     0.003910\n",
      "std      0.034650\n",
      "min     -0.034920\n",
      "25%     -0.009975\n",
      "50%      0.014970\n",
      "75%      0.023325\n",
      "max      0.031680\n",
      "Name: Elevation Difference, dtype: float64\n",
      "rmse= 0.028560635497131292\n",
      "8 Submerged Sand\n",
      "count    2.000000\n",
      "mean    -0.052780\n",
      "std      0.035567\n",
      "min     -0.077930\n",
      "25%     -0.065355\n",
      "50%     -0.052780\n",
      "75%     -0.040205\n",
      "max     -0.027630\n",
      "Name: Elevation Difference, dtype: float64\n",
      "rmse= 0.058465809666847196\n"
     ]
    },
    {
     "data": {
      "image/png": "[encoded data removed]",
      "text/plain": [
       "<Figure size 432x288 with 1 Axes>"
      ]
     },
     "metadata": {
      "needs_background": "light"
     },
     "output_type": "display_data"
    },
    {
     "data": {
      "image/png": "[encoded data removed]",
      "text/plain": [
       "<Figure size 432x288 with 1 Axes>"
      ]
     },
     "metadata": {
      "needs_background": "light"
     },
     "output_type": "display_data"
    },
    {
     "data": {
      "image/png": "[encoded data removed]",
      "text/plain": [
       "<Figure size 432x288 with 1 Axes>"
      ]
     },
     "metadata": {
      "needs_background": "light"
     },
     "output_type": "display_data"
    },
    {
     "data": {
      "image/png": "[encoded data removed]",
      "text/plain": [
       "<Figure size 432x288 with 1 Axes>"
      ]
     },
     "metadata": {
      "needs_background": "light"
     },
     "output_type": "display_data"
    },
    {
     "data": {
      "image/png": "[encoded data removed]",
      "text/plain": [
       "<Figure size 432x288 with 1 Axes>"
      ]
     },
     "metadata": {
      "needs_background": "light"
     },
     "output_type": "display_data"
    },
    {
     "data": {
      "image/png": "[encoded data removed]",
      "text/plain": [
       "<Figure size 432x288 with 1 Axes>"
      ]
     },
     "metadata": {
      "needs_background": "light"
     },
     "output_type": "display_data"
    },
    {
     "data": {
      "image/png": "[encoded data removed]",
      "text/plain": [
       "<Figure size 432x288 with 1 Axes>"
      ]
     },
     "metadata": {
      "needs_background": "light"
     },
     "output_type": "display_data"
    },
    {
     "data": {
      "image/png": "[encoded data removed]",
      "text/plain": [
       "<Figure size 432x288 with 1 Axes>"
      ]
     },
     "metadata": {
      "needs_background": "light"
     },
     "output_type": "display_data"
    },
    {
     "data": {
      "image/png": "[encoded data removed]",
      "text/plain": [
       "<Figure size 432x288 with 1 Axes>"
      ]
     },
     "metadata": {
      "needs_background": "light"
     },
     "output_type": "display_data"
    }
   ],
   "source": [
    "for i in range(0,9):\n",
    "    print(i, classes[i])\n",
    "    print(df2[\"Elevation Difference\"].loc[df2[\"Classification\"]==i].describe())\n",
    "    val = df2[\"Elevation Difference\"].loc[df2[\"Classification\"]==i].values\n",
    "    rmse=np.sqrt(np.mean(val**2))\n",
    "    print(\"rmse=\",rmse)\n",
    "    plt.figure(figsize= (6,4))\n",
    "    plt.hist(val)\n",
    "    plt.title(classes[i])"
   ]
  },
  {
   "cell_type": "code",
   "execution_count": 124,
   "metadata": {},
   "outputs": [
    {
     "data": {
      "text/plain": [
       "'C:\\\\jhigh\\\\Source\\\\Learning_Python_in_Great_Marshes_Region'"
      ]
     },
     "execution_count": 124,
     "metadata": {},
     "output_type": "execute_result"
    }
   ],
   "source": [
    "pwd"
   ]
  },
  {
   "cell_type": "code",
   "execution_count": 125,
   "metadata": {},
   "outputs": [
    {
     "name": "stdout",
     "output_type": "stream",
     "text": [
      "c:/jhigh/Projects/transects_greatmarsh_rtk_edited3.csv\n"
     ]
    }
   ],
   "source": [
    "dirn=\"c:/jhigh/Projects/\"\n",
    "fn3=\"transects_greatmarsh_rtk_edited3.csv\"\n",
    "print(dirn + fn3)\n",
    "fullpathn3 = dirn + fn3"
   ]
  },
  {
   "cell_type": "code",
   "execution_count": 126,
   "metadata": {},
   "outputs": [
    {
     "name": "stdout",
     "output_type": "stream",
     "text": [
      "Read:  235 lines.\n"
     ]
    },
    {
     "data": {
      "text/html": [
       "<div>\n",
       "<style scoped>\n",
       "    .dataframe tbody tr th:only-of-type {\n",
       "        vertical-align: middle;\n",
       "    }\n",
       "\n",
       "    .dataframe tbody tr th {\n",
       "        vertical-align: top;\n",
       "    }\n",
       "\n",
       "    .dataframe thead th {\n",
       "        text-align: right;\n",
       "    }\n",
       "</style>\n",
       "<table border=\"1\" class=\"dataframe\">\n",
       "  <thead>\n",
       "    <tr style=\"text-align: right;\">\n",
       "      <th></th>\n",
       "      <th>Point ID</th>\n",
       "      <th>Local_N</th>\n",
       "      <th>Local_E</th>\n",
       "      <th>Local_Z</th>\n",
       "      <th>1mgrid_Z</th>\n",
       "      <th>BareEarth_Z</th>\n",
       "      <th>Classification</th>\n",
       "    </tr>\n",
       "  </thead>\n",
       "  <tbody>\n",
       "    <tr>\n",
       "      <th>0</th>\n",
       "      <td>5</td>\n",
       "      <td>4621601.180</td>\n",
       "      <td>385924.0487</td>\n",
       "      <td>2.8989</td>\n",
       "      <td>2.95700</td>\n",
       "      <td>2.954</td>\n",
       "      <td>6</td>\n",
       "    </tr>\n",
       "    <tr>\n",
       "      <th>1</th>\n",
       "      <td>6</td>\n",
       "      <td>4621600.720</td>\n",
       "      <td>385924.4364</td>\n",
       "      <td>2.9419</td>\n",
       "      <td>2.98500</td>\n",
       "      <td>2.985</td>\n",
       "      <td>6</td>\n",
       "    </tr>\n",
       "    <tr>\n",
       "      <th>2</th>\n",
       "      <td>7</td>\n",
       "      <td>4621600.740</td>\n",
       "      <td>385924.4032</td>\n",
       "      <td>2.9379</td>\n",
       "      <td>2.98300</td>\n",
       "      <td>2.983</td>\n",
       "      <td>6</td>\n",
       "    </tr>\n",
       "    <tr>\n",
       "      <th>3</th>\n",
       "      <td>8</td>\n",
       "      <td>4621570.795</td>\n",
       "      <td>385932.4255</td>\n",
       "      <td>3.4181</td>\n",
       "      <td>3.57900</td>\n",
       "      <td>3.577</td>\n",
       "      <td>5</td>\n",
       "    </tr>\n",
       "    <tr>\n",
       "      <th>4</th>\n",
       "      <td>9</td>\n",
       "      <td>4621550.622</td>\n",
       "      <td>385960.5784</td>\n",
       "      <td>2.1262</td>\n",
       "      <td>2.16500</td>\n",
       "      <td>2.164</td>\n",
       "      <td>5</td>\n",
       "    </tr>\n",
       "    <tr>\n",
       "      <th>5</th>\n",
       "      <td>10</td>\n",
       "      <td>4621545.638</td>\n",
       "      <td>385990.3527</td>\n",
       "      <td>2.2740</td>\n",
       "      <td>2.37520</td>\n",
       "      <td>2.375</td>\n",
       "      <td>5</td>\n",
       "    </tr>\n",
       "    <tr>\n",
       "      <th>6</th>\n",
       "      <td>11</td>\n",
       "      <td>4621536.262</td>\n",
       "      <td>386011.5767</td>\n",
       "      <td>1.9830</td>\n",
       "      <td>2.06120</td>\n",
       "      <td>2.061</td>\n",
       "      <td>5</td>\n",
       "    </tr>\n",
       "    <tr>\n",
       "      <th>7</th>\n",
       "      <td>12</td>\n",
       "      <td>4621525.232</td>\n",
       "      <td>386025.0516</td>\n",
       "      <td>3.9320</td>\n",
       "      <td>3.97920</td>\n",
       "      <td>3.965</td>\n",
       "      <td>5</td>\n",
       "    </tr>\n",
       "    <tr>\n",
       "      <th>8</th>\n",
       "      <td>13</td>\n",
       "      <td>4621516.255</td>\n",
       "      <td>386036.1507</td>\n",
       "      <td>2.4860</td>\n",
       "      <td>2.52230</td>\n",
       "      <td>2.522</td>\n",
       "      <td>5</td>\n",
       "    </tr>\n",
       "    <tr>\n",
       "      <th>9</th>\n",
       "      <td>14</td>\n",
       "      <td>4621504.708</td>\n",
       "      <td>386055.4914</td>\n",
       "      <td>1.4830</td>\n",
       "      <td>1.51630</td>\n",
       "      <td>1.514</td>\n",
       "      <td>5</td>\n",
       "    </tr>\n",
       "    <tr>\n",
       "      <th>10</th>\n",
       "      <td>15</td>\n",
       "      <td>4621497.570</td>\n",
       "      <td>386042.3851</td>\n",
       "      <td>4.8104</td>\n",
       "      <td>4.86000</td>\n",
       "      <td>4.846</td>\n",
       "      <td>5</td>\n",
       "    </tr>\n",
       "    <tr>\n",
       "      <th>11</th>\n",
       "      <td>16</td>\n",
       "      <td>4621472.025</td>\n",
       "      <td>386057.9148</td>\n",
       "      <td>6.8860</td>\n",
       "      <td>6.91960</td>\n",
       "      <td>6.915</td>\n",
       "      <td>5</td>\n",
       "    </tr>\n",
       "    <tr>\n",
       "      <th>12</th>\n",
       "      <td>17</td>\n",
       "      <td>4621442.861</td>\n",
       "      <td>386074.1091</td>\n",
       "      <td>8.2630</td>\n",
       "      <td>8.28280</td>\n",
       "      <td>8.278</td>\n",
       "      <td>5</td>\n",
       "    </tr>\n",
       "    <tr>\n",
       "      <th>13</th>\n",
       "      <td>18</td>\n",
       "      <td>4621430.803</td>\n",
       "      <td>386091.7919</td>\n",
       "      <td>8.9990</td>\n",
       "      <td>9.01790</td>\n",
       "      <td>9.017</td>\n",
       "      <td>5</td>\n",
       "    </tr>\n",
       "    <tr>\n",
       "      <th>14</th>\n",
       "      <td>19</td>\n",
       "      <td>4621447.040</td>\n",
       "      <td>386100.6346</td>\n",
       "      <td>10.4210</td>\n",
       "      <td>10.51700</td>\n",
       "      <td>10.480</td>\n",
       "      <td>3</td>\n",
       "    </tr>\n",
       "    <tr>\n",
       "      <th>15</th>\n",
       "      <td>20</td>\n",
       "      <td>4621457.551</td>\n",
       "      <td>386121.8637</td>\n",
       "      <td>8.2710</td>\n",
       "      <td>8.34450</td>\n",
       "      <td>8.342</td>\n",
       "      <td>5</td>\n",
       "    </tr>\n",
       "    <tr>\n",
       "      <th>16</th>\n",
       "      <td>21</td>\n",
       "      <td>4621458.906</td>\n",
       "      <td>386132.2491</td>\n",
       "      <td>6.0480</td>\n",
       "      <td>6.08550</td>\n",
       "      <td>6.083</td>\n",
       "      <td>5</td>\n",
       "    </tr>\n",
       "    <tr>\n",
       "      <th>17</th>\n",
       "      <td>22</td>\n",
       "      <td>4621475.880</td>\n",
       "      <td>386130.2263</td>\n",
       "      <td>7.5433</td>\n",
       "      <td>7.60600</td>\n",
       "      <td>7.605</td>\n",
       "      <td>5</td>\n",
       "    </tr>\n",
       "    <tr>\n",
       "      <th>18</th>\n",
       "      <td>23</td>\n",
       "      <td>4621488.164</td>\n",
       "      <td>386136.1069</td>\n",
       "      <td>9.2170</td>\n",
       "      <td>9.30420</td>\n",
       "      <td>9.291</td>\n",
       "      <td>5</td>\n",
       "    </tr>\n",
       "    <tr>\n",
       "      <th>19</th>\n",
       "      <td>25</td>\n",
       "      <td>4621465.552</td>\n",
       "      <td>386154.9914</td>\n",
       "      <td>8.8360</td>\n",
       "      <td>8.87530</td>\n",
       "      <td>8.874</td>\n",
       "      <td>5</td>\n",
       "    </tr>\n",
       "    <tr>\n",
       "      <th>20</th>\n",
       "      <td>26</td>\n",
       "      <td>4621441.779</td>\n",
       "      <td>386161.9557</td>\n",
       "      <td>7.4630</td>\n",
       "      <td>7.53850</td>\n",
       "      <td>7.530</td>\n",
       "      <td>5</td>\n",
       "    </tr>\n",
       "    <tr>\n",
       "      <th>21</th>\n",
       "      <td>27</td>\n",
       "      <td>4621422.454</td>\n",
       "      <td>386171.2881</td>\n",
       "      <td>6.7640</td>\n",
       "      <td>6.84570</td>\n",
       "      <td>6.844</td>\n",
       "      <td>3</td>\n",
       "    </tr>\n",
       "    <tr>\n",
       "      <th>22</th>\n",
       "      <td>28</td>\n",
       "      <td>4621415.124</td>\n",
       "      <td>386181.4402</td>\n",
       "      <td>7.1250</td>\n",
       "      <td>7.14770</td>\n",
       "      <td>7.146</td>\n",
       "      <td>5</td>\n",
       "    </tr>\n",
       "    <tr>\n",
       "      <th>23</th>\n",
       "      <td>29</td>\n",
       "      <td>4621379.723</td>\n",
       "      <td>386171.9626</td>\n",
       "      <td>10.4000</td>\n",
       "      <td>10.47110</td>\n",
       "      <td>10.472</td>\n",
       "      <td>5</td>\n",
       "    </tr>\n",
       "    <tr>\n",
       "      <th>24</th>\n",
       "      <td>30</td>\n",
       "      <td>4621367.656</td>\n",
       "      <td>386183.0591</td>\n",
       "      <td>11.2200</td>\n",
       "      <td>11.27420</td>\n",
       "      <td>11.270</td>\n",
       "      <td>5</td>\n",
       "    </tr>\n",
       "    <tr>\n",
       "      <th>25</th>\n",
       "      <td>31</td>\n",
       "      <td>4621336.165</td>\n",
       "      <td>386173.6939</td>\n",
       "      <td>9.0170</td>\n",
       "      <td>9.07750</td>\n",
       "      <td>9.077</td>\n",
       "      <td>5</td>\n",
       "    </tr>\n",
       "    <tr>\n",
       "      <th>26</th>\n",
       "      <td>32</td>\n",
       "      <td>4621328.765</td>\n",
       "      <td>386197.4987</td>\n",
       "      <td>9.4310</td>\n",
       "      <td>9.47850</td>\n",
       "      <td>9.478</td>\n",
       "      <td>5</td>\n",
       "    </tr>\n",
       "    <tr>\n",
       "      <th>27</th>\n",
       "      <td>33</td>\n",
       "      <td>4621283.181</td>\n",
       "      <td>386191.0969</td>\n",
       "      <td>11.3600</td>\n",
       "      <td>11.43700</td>\n",
       "      <td>11.439</td>\n",
       "      <td>5</td>\n",
       "    </tr>\n",
       "    <tr>\n",
       "      <th>28</th>\n",
       "      <td>34</td>\n",
       "      <td>4621261.875</td>\n",
       "      <td>386191.2767</td>\n",
       "      <td>9.3720</td>\n",
       "      <td>9.42420</td>\n",
       "      <td>9.417</td>\n",
       "      <td>5</td>\n",
       "    </tr>\n",
       "    <tr>\n",
       "      <th>29</th>\n",
       "      <td>35</td>\n",
       "      <td>4621268.995</td>\n",
       "      <td>386174.7480</td>\n",
       "      <td>6.1462</td>\n",
       "      <td>6.18900</td>\n",
       "      <td>6.180</td>\n",
       "      <td>5</td>\n",
       "    </tr>\n",
       "    <tr>\n",
       "      <th>...</th>\n",
       "      <td>...</td>\n",
       "      <td>...</td>\n",
       "      <td>...</td>\n",
       "      <td>...</td>\n",
       "      <td>...</td>\n",
       "      <td>...</td>\n",
       "      <td>...</td>\n",
       "    </tr>\n",
       "    <tr>\n",
       "      <th>205</th>\n",
       "      <td>218</td>\n",
       "      <td>4621419.632</td>\n",
       "      <td>385911.6673</td>\n",
       "      <td>1.7400</td>\n",
       "      <td>1.80000</td>\n",
       "      <td>1.800</td>\n",
       "      <td>4</td>\n",
       "    </tr>\n",
       "    <tr>\n",
       "      <th>206</th>\n",
       "      <td>219</td>\n",
       "      <td>4621441.174</td>\n",
       "      <td>385920.2727</td>\n",
       "      <td>1.6700</td>\n",
       "      <td>1.75824</td>\n",
       "      <td>1.726</td>\n",
       "      <td>5</td>\n",
       "    </tr>\n",
       "    <tr>\n",
       "      <th>207</th>\n",
       "      <td>220</td>\n",
       "      <td>4621490.953</td>\n",
       "      <td>385915.3147</td>\n",
       "      <td>2.2200</td>\n",
       "      <td>2.30000</td>\n",
       "      <td>2.296</td>\n",
       "      <td>4</td>\n",
       "    </tr>\n",
       "    <tr>\n",
       "      <th>208</th>\n",
       "      <td>221</td>\n",
       "      <td>4621547.740</td>\n",
       "      <td>385909.1347</td>\n",
       "      <td>4.8680</td>\n",
       "      <td>4.98150</td>\n",
       "      <td>4.967</td>\n",
       "      <td>4</td>\n",
       "    </tr>\n",
       "    <tr>\n",
       "      <th>209</th>\n",
       "      <td>222</td>\n",
       "      <td>4621548.617</td>\n",
       "      <td>385922.4356</td>\n",
       "      <td>3.7000</td>\n",
       "      <td>3.82844</td>\n",
       "      <td>3.822</td>\n",
       "      <td>5</td>\n",
       "    </tr>\n",
       "    <tr>\n",
       "      <th>210</th>\n",
       "      <td>223</td>\n",
       "      <td>4621550.024</td>\n",
       "      <td>385937.6032</td>\n",
       "      <td>2.7500</td>\n",
       "      <td>2.84473</td>\n",
       "      <td>2.844</td>\n",
       "      <td>5</td>\n",
       "    </tr>\n",
       "    <tr>\n",
       "      <th>211</th>\n",
       "      <td>224</td>\n",
       "      <td>4621555.558</td>\n",
       "      <td>385951.5798</td>\n",
       "      <td>2.2100</td>\n",
       "      <td>2.30202</td>\n",
       "      <td>2.302</td>\n",
       "      <td>5</td>\n",
       "    </tr>\n",
       "    <tr>\n",
       "      <th>212</th>\n",
       "      <td>225</td>\n",
       "      <td>4621547.668</td>\n",
       "      <td>385987.7500</td>\n",
       "      <td>2.4892</td>\n",
       "      <td>2.60400</td>\n",
       "      <td>2.604</td>\n",
       "      <td>5</td>\n",
       "    </tr>\n",
       "    <tr>\n",
       "      <th>213</th>\n",
       "      <td>226</td>\n",
       "      <td>4621550.466</td>\n",
       "      <td>386035.0668</td>\n",
       "      <td>6.5200</td>\n",
       "      <td>6.72139</td>\n",
       "      <td>6.721</td>\n",
       "      <td>5</td>\n",
       "    </tr>\n",
       "    <tr>\n",
       "      <th>214</th>\n",
       "      <td>227</td>\n",
       "      <td>4621536.218</td>\n",
       "      <td>386081.3972</td>\n",
       "      <td>7.1300</td>\n",
       "      <td>7.24119</td>\n",
       "      <td>7.241</td>\n",
       "      <td>5</td>\n",
       "    </tr>\n",
       "    <tr>\n",
       "      <th>215</th>\n",
       "      <td>228</td>\n",
       "      <td>4621529.305</td>\n",
       "      <td>386097.9478</td>\n",
       "      <td>8.9600</td>\n",
       "      <td>9.06179</td>\n",
       "      <td>9.041</td>\n",
       "      <td>5</td>\n",
       "    </tr>\n",
       "    <tr>\n",
       "      <th>216</th>\n",
       "      <td>229</td>\n",
       "      <td>4621497.600</td>\n",
       "      <td>386122.9829</td>\n",
       "      <td>9.0921</td>\n",
       "      <td>9.15500</td>\n",
       "      <td>9.153</td>\n",
       "      <td>5</td>\n",
       "    </tr>\n",
       "    <tr>\n",
       "      <th>217</th>\n",
       "      <td>230</td>\n",
       "      <td>4621472.066</td>\n",
       "      <td>386132.6154</td>\n",
       "      <td>7.4600</td>\n",
       "      <td>7.52203</td>\n",
       "      <td>7.509</td>\n",
       "      <td>5</td>\n",
       "    </tr>\n",
       "    <tr>\n",
       "      <th>218</th>\n",
       "      <td>231</td>\n",
       "      <td>4621457.959</td>\n",
       "      <td>386133.1071</td>\n",
       "      <td>6.0200</td>\n",
       "      <td>6.09435</td>\n",
       "      <td>6.092</td>\n",
       "      <td>5</td>\n",
       "    </tr>\n",
       "    <tr>\n",
       "      <th>219</th>\n",
       "      <td>232</td>\n",
       "      <td>4621460.828</td>\n",
       "      <td>386151.2093</td>\n",
       "      <td>8.8900</td>\n",
       "      <td>8.98324</td>\n",
       "      <td>8.970</td>\n",
       "      <td>5</td>\n",
       "    </tr>\n",
       "    <tr>\n",
       "      <th>220</th>\n",
       "      <td>234</td>\n",
       "      <td>4621501.853</td>\n",
       "      <td>386162.0606</td>\n",
       "      <td>3.5500</td>\n",
       "      <td>3.67199</td>\n",
       "      <td>3.649</td>\n",
       "      <td>5</td>\n",
       "    </tr>\n",
       "    <tr>\n",
       "      <th>221</th>\n",
       "      <td>235</td>\n",
       "      <td>4621546.824</td>\n",
       "      <td>386161.2399</td>\n",
       "      <td>7.2700</td>\n",
       "      <td>7.24485</td>\n",
       "      <td>6.974</td>\n",
       "      <td>5</td>\n",
       "    </tr>\n",
       "    <tr>\n",
       "      <th>222</th>\n",
       "      <td>236</td>\n",
       "      <td>4621563.428</td>\n",
       "      <td>386166.2770</td>\n",
       "      <td>2.2220</td>\n",
       "      <td>2.32930</td>\n",
       "      <td>2.329</td>\n",
       "      <td>6</td>\n",
       "    </tr>\n",
       "    <tr>\n",
       "      <th>223</th>\n",
       "      <td>237</td>\n",
       "      <td>4621573.437</td>\n",
       "      <td>386168.1582</td>\n",
       "      <td>2.5600</td>\n",
       "      <td>2.64802</td>\n",
       "      <td>2.632</td>\n",
       "      <td>6</td>\n",
       "    </tr>\n",
       "    <tr>\n",
       "      <th>224</th>\n",
       "      <td>238</td>\n",
       "      <td>4621582.421</td>\n",
       "      <td>386170.2632</td>\n",
       "      <td>2.7400</td>\n",
       "      <td>2.80101</td>\n",
       "      <td>2.801</td>\n",
       "      <td>6</td>\n",
       "    </tr>\n",
       "    <tr>\n",
       "      <th>225</th>\n",
       "      <td>239</td>\n",
       "      <td>4621593.173</td>\n",
       "      <td>386172.1114</td>\n",
       "      <td>2.3900</td>\n",
       "      <td>2.45410</td>\n",
       "      <td>2.454</td>\n",
       "      <td>6</td>\n",
       "    </tr>\n",
       "    <tr>\n",
       "      <th>226</th>\n",
       "      <td>240</td>\n",
       "      <td>4621601.862</td>\n",
       "      <td>386174.0541</td>\n",
       "      <td>1.6500</td>\n",
       "      <td>1.66909</td>\n",
       "      <td>1.669</td>\n",
       "      <td>6</td>\n",
       "    </tr>\n",
       "    <tr>\n",
       "      <th>227</th>\n",
       "      <td>241</td>\n",
       "      <td>4621608.994</td>\n",
       "      <td>386175.8124</td>\n",
       "      <td>0.8100</td>\n",
       "      <td>0.84168</td>\n",
       "      <td>0.839</td>\n",
       "      <td>7</td>\n",
       "    </tr>\n",
       "    <tr>\n",
       "      <th>228</th>\n",
       "      <td>242</td>\n",
       "      <td>4621617.801</td>\n",
       "      <td>386178.0877</td>\n",
       "      <td>0.0000</td>\n",
       "      <td>-0.03492</td>\n",
       "      <td>-0.038</td>\n",
       "      <td>7</td>\n",
       "    </tr>\n",
       "    <tr>\n",
       "      <th>229</th>\n",
       "      <td>243</td>\n",
       "      <td>4621627.012</td>\n",
       "      <td>386179.9808</td>\n",
       "      <td>-0.9000</td>\n",
       "      <td>-0.92763</td>\n",
       "      <td>-0.929</td>\n",
       "      <td>8</td>\n",
       "    </tr>\n",
       "    <tr>\n",
       "      <th>230</th>\n",
       "      <td>244</td>\n",
       "      <td>4621619.607</td>\n",
       "      <td>386188.5422</td>\n",
       "      <td>-0.3000</td>\n",
       "      <td>-0.37793</td>\n",
       "      <td>-0.370</td>\n",
       "      <td>8</td>\n",
       "    </tr>\n",
       "    <tr>\n",
       "      <th>231</th>\n",
       "      <td>245</td>\n",
       "      <td>4621609.419</td>\n",
       "      <td>386200.9997</td>\n",
       "      <td>0.4500</td>\n",
       "      <td>0.46497</td>\n",
       "      <td>0.464</td>\n",
       "      <td>7</td>\n",
       "    </tr>\n",
       "    <tr>\n",
       "      <th>232</th>\n",
       "      <td>246</td>\n",
       "      <td>4621596.180</td>\n",
       "      <td>386213.3644</td>\n",
       "      <td>1.7290</td>\n",
       "      <td>1.72680</td>\n",
       "      <td>1.726</td>\n",
       "      <td>6</td>\n",
       "    </tr>\n",
       "    <tr>\n",
       "      <th>233</th>\n",
       "      <td>247</td>\n",
       "      <td>4621580.037</td>\n",
       "      <td>386226.8094</td>\n",
       "      <td>2.3200</td>\n",
       "      <td>2.34149</td>\n",
       "      <td>2.341</td>\n",
       "      <td>6</td>\n",
       "    </tr>\n",
       "    <tr>\n",
       "      <th>234</th>\n",
       "      <td>248</td>\n",
       "      <td>4621569.360</td>\n",
       "      <td>386238.5507</td>\n",
       "      <td>2.2480</td>\n",
       "      <td>2.25300</td>\n",
       "      <td>2.253</td>\n",
       "      <td>6</td>\n",
       "    </tr>\n",
       "  </tbody>\n",
       "</table>\n",
       "<p>235 rows × 7 columns</p>\n",
       "</div>"
      ],
      "text/plain": [
       "     Point ID      Local_N      Local_E  Local_Z  1mgrid_Z  BareEarth_Z  \\\n",
       "0           5  4621601.180  385924.0487   2.8989   2.95700        2.954   \n",
       "1           6  4621600.720  385924.4364   2.9419   2.98500        2.985   \n",
       "2           7  4621600.740  385924.4032   2.9379   2.98300        2.983   \n",
       "3           8  4621570.795  385932.4255   3.4181   3.57900        3.577   \n",
       "4           9  4621550.622  385960.5784   2.1262   2.16500        2.164   \n",
       "5          10  4621545.638  385990.3527   2.2740   2.37520        2.375   \n",
       "6          11  4621536.262  386011.5767   1.9830   2.06120        2.061   \n",
       "7          12  4621525.232  386025.0516   3.9320   3.97920        3.965   \n",
       "8          13  4621516.255  386036.1507   2.4860   2.52230        2.522   \n",
       "9          14  4621504.708  386055.4914   1.4830   1.51630        1.514   \n",
       "10         15  4621497.570  386042.3851   4.8104   4.86000        4.846   \n",
       "11         16  4621472.025  386057.9148   6.8860   6.91960        6.915   \n",
       "12         17  4621442.861  386074.1091   8.2630   8.28280        8.278   \n",
       "13         18  4621430.803  386091.7919   8.9990   9.01790        9.017   \n",
       "14         19  4621447.040  386100.6346  10.4210  10.51700       10.480   \n",
       "15         20  4621457.551  386121.8637   8.2710   8.34450        8.342   \n",
       "16         21  4621458.906  386132.2491   6.0480   6.08550        6.083   \n",
       "17         22  4621475.880  386130.2263   7.5433   7.60600        7.605   \n",
       "18         23  4621488.164  386136.1069   9.2170   9.30420        9.291   \n",
       "19         25  4621465.552  386154.9914   8.8360   8.87530        8.874   \n",
       "20         26  4621441.779  386161.9557   7.4630   7.53850        7.530   \n",
       "21         27  4621422.454  386171.2881   6.7640   6.84570        6.844   \n",
       "22         28  4621415.124  386181.4402   7.1250   7.14770        7.146   \n",
       "23         29  4621379.723  386171.9626  10.4000  10.47110       10.472   \n",
       "24         30  4621367.656  386183.0591  11.2200  11.27420       11.270   \n",
       "25         31  4621336.165  386173.6939   9.0170   9.07750        9.077   \n",
       "26         32  4621328.765  386197.4987   9.4310   9.47850        9.478   \n",
       "27         33  4621283.181  386191.0969  11.3600  11.43700       11.439   \n",
       "28         34  4621261.875  386191.2767   9.3720   9.42420        9.417   \n",
       "29         35  4621268.995  386174.7480   6.1462   6.18900        6.180   \n",
       "..        ...          ...          ...      ...       ...          ...   \n",
       "205       218  4621419.632  385911.6673   1.7400   1.80000        1.800   \n",
       "206       219  4621441.174  385920.2727   1.6700   1.75824        1.726   \n",
       "207       220  4621490.953  385915.3147   2.2200   2.30000        2.296   \n",
       "208       221  4621547.740  385909.1347   4.8680   4.98150        4.967   \n",
       "209       222  4621548.617  385922.4356   3.7000   3.82844        3.822   \n",
       "210       223  4621550.024  385937.6032   2.7500   2.84473        2.844   \n",
       "211       224  4621555.558  385951.5798   2.2100   2.30202        2.302   \n",
       "212       225  4621547.668  385987.7500   2.4892   2.60400        2.604   \n",
       "213       226  4621550.466  386035.0668   6.5200   6.72139        6.721   \n",
       "214       227  4621536.218  386081.3972   7.1300   7.24119        7.241   \n",
       "215       228  4621529.305  386097.9478   8.9600   9.06179        9.041   \n",
       "216       229  4621497.600  386122.9829   9.0921   9.15500        9.153   \n",
       "217       230  4621472.066  386132.6154   7.4600   7.52203        7.509   \n",
       "218       231  4621457.959  386133.1071   6.0200   6.09435        6.092   \n",
       "219       232  4621460.828  386151.2093   8.8900   8.98324        8.970   \n",
       "220       234  4621501.853  386162.0606   3.5500   3.67199        3.649   \n",
       "221       235  4621546.824  386161.2399   7.2700   7.24485        6.974   \n",
       "222       236  4621563.428  386166.2770   2.2220   2.32930        2.329   \n",
       "223       237  4621573.437  386168.1582   2.5600   2.64802        2.632   \n",
       "224       238  4621582.421  386170.2632   2.7400   2.80101        2.801   \n",
       "225       239  4621593.173  386172.1114   2.3900   2.45410        2.454   \n",
       "226       240  4621601.862  386174.0541   1.6500   1.66909        1.669   \n",
       "227       241  4621608.994  386175.8124   0.8100   0.84168        0.839   \n",
       "228       242  4621617.801  386178.0877   0.0000  -0.03492       -0.038   \n",
       "229       243  4621627.012  386179.9808  -0.9000  -0.92763       -0.929   \n",
       "230       244  4621619.607  386188.5422  -0.3000  -0.37793       -0.370   \n",
       "231       245  4621609.419  386200.9997   0.4500   0.46497        0.464   \n",
       "232       246  4621596.180  386213.3644   1.7290   1.72680        1.726   \n",
       "233       247  4621580.037  386226.8094   2.3200   2.34149        2.341   \n",
       "234       248  4621569.360  386238.5507   2.2480   2.25300        2.253   \n",
       "\n",
       "     Classification  \n",
       "0                 6  \n",
       "1                 6  \n",
       "2                 6  \n",
       "3                 5  \n",
       "4                 5  \n",
       "5                 5  \n",
       "6                 5  \n",
       "7                 5  \n",
       "8                 5  \n",
       "9                 5  \n",
       "10                5  \n",
       "11                5  \n",
       "12                5  \n",
       "13                5  \n",
       "14                3  \n",
       "15                5  \n",
       "16                5  \n",
       "17                5  \n",
       "18                5  \n",
       "19                5  \n",
       "20                5  \n",
       "21                3  \n",
       "22                5  \n",
       "23                5  \n",
       "24                5  \n",
       "25                5  \n",
       "26                5  \n",
       "27                5  \n",
       "28                5  \n",
       "29                5  \n",
       "..              ...  \n",
       "205               4  \n",
       "206               5  \n",
       "207               4  \n",
       "208               4  \n",
       "209               5  \n",
       "210               5  \n",
       "211               5  \n",
       "212               5  \n",
       "213               5  \n",
       "214               5  \n",
       "215               5  \n",
       "216               5  \n",
       "217               5  \n",
       "218               5  \n",
       "219               5  \n",
       "220               5  \n",
       "221               5  \n",
       "222               6  \n",
       "223               6  \n",
       "224               6  \n",
       "225               6  \n",
       "226               6  \n",
       "227               7  \n",
       "228               7  \n",
       "229               8  \n",
       "230               8  \n",
       "231               7  \n",
       "232               6  \n",
       "233               6  \n",
       "234               6  \n",
       "\n",
       "[235 rows x 7 columns]"
      ]
     },
     "execution_count": 126,
     "metadata": {},
     "output_type": "execute_result"
    }
   ],
   "source": [
    "df3 = pd.read_csv(fullpathn3, header=0, skiprows=0, delimiter=\",\")\n",
    "print(\"Read: \", len(df3.index), \"lines.\")\n",
    "df3"
   ]
  },
  {
   "cell_type": "code",
   "execution_count": 127,
   "metadata": {},
   "outputs": [],
   "source": [
    "df3['Elevation Difference'] = df3['BareEarth_Z'] - df3['Local_Z'] "
   ]
  },
  {
   "cell_type": "code",
   "execution_count": 128,
   "metadata": {},
   "outputs": [
    {
     "data": {
      "text/html": [
       "<div>\n",
       "<style scoped>\n",
       "    .dataframe tbody tr th:only-of-type {\n",
       "        vertical-align: middle;\n",
       "    }\n",
       "\n",
       "    .dataframe tbody tr th {\n",
       "        vertical-align: top;\n",
       "    }\n",
       "\n",
       "    .dataframe thead th {\n",
       "        text-align: right;\n",
       "    }\n",
       "</style>\n",
       "<table border=\"1\" class=\"dataframe\">\n",
       "  <thead>\n",
       "    <tr style=\"text-align: right;\">\n",
       "      <th></th>\n",
       "      <th>Point ID</th>\n",
       "      <th>Local_N</th>\n",
       "      <th>Local_E</th>\n",
       "      <th>Local_Z</th>\n",
       "      <th>1mgrid_Z</th>\n",
       "      <th>BareEarth_Z</th>\n",
       "      <th>Classification</th>\n",
       "      <th>Elevation Difference</th>\n",
       "    </tr>\n",
       "  </thead>\n",
       "  <tbody>\n",
       "    <tr>\n",
       "      <th>count</th>\n",
       "      <td>235.000000</td>\n",
       "      <td>2.350000e+02</td>\n",
       "      <td>235.000000</td>\n",
       "      <td>235.000000</td>\n",
       "      <td>235.000000</td>\n",
       "      <td>235.000000</td>\n",
       "      <td>235.000000</td>\n",
       "      <td>235.000000</td>\n",
       "    </tr>\n",
       "    <tr>\n",
       "      <th>mean</th>\n",
       "      <td>126.051064</td>\n",
       "      <td>4.621207e+06</td>\n",
       "      <td>386110.943208</td>\n",
       "      <td>4.331120</td>\n",
       "      <td>4.410966</td>\n",
       "      <td>4.401272</td>\n",
       "      <td>4.221277</td>\n",
       "      <td>0.070153</td>\n",
       "    </tr>\n",
       "    <tr>\n",
       "      <th>std</th>\n",
       "      <td>70.292228</td>\n",
       "      <td>2.601504e+02</td>\n",
       "      <td>148.778683</td>\n",
       "      <td>3.243622</td>\n",
       "      <td>3.237115</td>\n",
       "      <td>3.233730</td>\n",
       "      <td>1.685146</td>\n",
       "      <td>0.059491</td>\n",
       "    </tr>\n",
       "    <tr>\n",
       "      <th>min</th>\n",
       "      <td>5.000000</td>\n",
       "      <td>4.620627e+06</td>\n",
       "      <td>385862.809500</td>\n",
       "      <td>-0.900000</td>\n",
       "      <td>-0.927630</td>\n",
       "      <td>-0.929000</td>\n",
       "      <td>0.000000</td>\n",
       "      <td>-0.296000</td>\n",
       "    </tr>\n",
       "    <tr>\n",
       "      <th>25%</th>\n",
       "      <td>66.000000</td>\n",
       "      <td>4.621087e+06</td>\n",
       "      <td>385986.562550</td>\n",
       "      <td>1.698000</td>\n",
       "      <td>1.830970</td>\n",
       "      <td>1.828000</td>\n",
       "      <td>4.000000</td>\n",
       "      <td>0.037900</td>\n",
       "    </tr>\n",
       "    <tr>\n",
       "      <th>50%</th>\n",
       "      <td>126.000000</td>\n",
       "      <td>4.621231e+06</td>\n",
       "      <td>386108.424400</td>\n",
       "      <td>2.969000</td>\n",
       "      <td>3.018600</td>\n",
       "      <td>3.018000</td>\n",
       "      <td>5.000000</td>\n",
       "      <td>0.059000</td>\n",
       "    </tr>\n",
       "    <tr>\n",
       "      <th>75%</th>\n",
       "      <td>185.500000</td>\n",
       "      <td>4.621393e+06</td>\n",
       "      <td>386195.934950</td>\n",
       "      <td>6.332700</td>\n",
       "      <td>6.407500</td>\n",
       "      <td>6.403000</td>\n",
       "      <td>5.000000</td>\n",
       "      <td>0.092000</td>\n",
       "    </tr>\n",
       "    <tr>\n",
       "      <th>max</th>\n",
       "      <td>248.000000</td>\n",
       "      <td>4.621627e+06</td>\n",
       "      <td>386414.320800</td>\n",
       "      <td>15.370000</td>\n",
       "      <td>15.364600</td>\n",
       "      <td>15.348000</td>\n",
       "      <td>8.000000</td>\n",
       "      <td>0.325000</td>\n",
       "    </tr>\n",
       "  </tbody>\n",
       "</table>\n",
       "</div>"
      ],
      "text/plain": [
       "         Point ID       Local_N        Local_E     Local_Z    1mgrid_Z  \\\n",
       "count  235.000000  2.350000e+02     235.000000  235.000000  235.000000   \n",
       "mean   126.051064  4.621207e+06  386110.943208    4.331120    4.410966   \n",
       "std     70.292228  2.601504e+02     148.778683    3.243622    3.237115   \n",
       "min      5.000000  4.620627e+06  385862.809500   -0.900000   -0.927630   \n",
       "25%     66.000000  4.621087e+06  385986.562550    1.698000    1.830970   \n",
       "50%    126.000000  4.621231e+06  386108.424400    2.969000    3.018600   \n",
       "75%    185.500000  4.621393e+06  386195.934950    6.332700    6.407500   \n",
       "max    248.000000  4.621627e+06  386414.320800   15.370000   15.364600   \n",
       "\n",
       "       BareEarth_Z  Classification  Elevation Difference  \n",
       "count   235.000000      235.000000            235.000000  \n",
       "mean      4.401272        4.221277              0.070153  \n",
       "std       3.233730        1.685146              0.059491  \n",
       "min      -0.929000        0.000000             -0.296000  \n",
       "25%       1.828000        4.000000              0.037900  \n",
       "50%       3.018000        5.000000              0.059000  \n",
       "75%       6.403000        5.000000              0.092000  \n",
       "max      15.348000        8.000000              0.325000  "
      ]
     },
     "execution_count": 128,
     "metadata": {},
     "output_type": "execute_result"
    }
   ],
   "source": [
    "df3.describe()"
   ]
  },
  {
   "cell_type": "code",
   "execution_count": 129,
   "metadata": {},
   "outputs": [
    {
     "data": {
      "text/plain": [
       "array([[<matplotlib.axes._subplots.AxesSubplot object at 0x000001E6BE8B2390>]],\n",
       "      dtype=object)"
      ]
     },
     "execution_count": 129,
     "metadata": {},
     "output_type": "execute_result"
    },
    {
     "data": {
      "image/png": "[encoded data removed]",
      "text/plain": [
       "<Figure size 432x288 with 1 Axes>"
      ]
     },
     "metadata": {
      "needs_background": "light"
     },
     "output_type": "display_data"
    }
   ],
   "source": [
    "df3.hist(column=\"Elevation Difference\")"
   ]
  },
  {
   "cell_type": "code",
   "execution_count": 130,
   "metadata": {},
   "outputs": [
    {
     "data": {
      "text/plain": [
       "<matplotlib.axes._subplots.AxesSubplot at 0x1e6be0f3cc0>"
      ]
     },
     "execution_count": 130,
     "metadata": {},
     "output_type": "execute_result"
    },
    {
     "data": {
      "image/png": "[encoded data removed]",
      "text/plain": [
       "<Figure size 432x288 with 1 Axes>"
      ]
     },
     "metadata": {
      "needs_background": "light"
     },
     "output_type": "display_data"
    }
   ],
   "source": [
    "df3.plot(x='Local_Z', y='BareEarth_Z', style=\"o\")"
   ]
  },
  {
   "cell_type": "code",
   "execution_count": 131,
   "metadata": {},
   "outputs": [
    {
     "data": {
      "text/plain": [
       "<matplotlib.axes._subplots.AxesSubplot at 0x1e6be600c88>"
      ]
     },
     "execution_count": 131,
     "metadata": {},
     "output_type": "execute_result"
    },
    {
     "data": {
      "image/png": "[encoded data removed]",
      "text/plain": [
       "<Figure size 432x288 with 2 Axes>"
      ]
     },
     "metadata": {
      "needs_background": "light"
     },
     "output_type": "display_data"
    }
   ],
   "source": [
    "df3.plot(kind='scatter', x='Local_E', y='Local_N', c=\"Elevation Difference\", cmap= \"jet\")"
   ]
  },
  {
   "cell_type": "code",
   "execution_count": 132,
   "metadata": {},
   "outputs": [],
   "source": [
    "y = df3[\"Elevation Difference\"].values"
   ]
  },
  {
   "cell_type": "code",
   "execution_count": 133,
   "metadata": {},
   "outputs": [],
   "source": [
    "x =df3[\"Local_Z\"].values"
   ]
  },
  {
   "cell_type": "code",
   "execution_count": 134,
   "metadata": {},
   "outputs": [],
   "source": [
    "z=df3[\"Classification\"].values "
   ]
  },
  {
   "cell_type": "code",
   "execution_count": 135,
   "metadata": {},
   "outputs": [
    {
     "data": {
      "text/plain": [
       "array([0.5, 1.5, 2.5, 3.5, 4.5, 5.5, 6.5, 7.5, 8.5])"
      ]
     },
     "execution_count": 135,
     "metadata": {},
     "output_type": "execute_result"
    }
   ],
   "source": [
    "ticks = np.arange(0.5, 9.5, 1)\n",
    "ticks"
   ]
  },
  {
   "cell_type": "code",
   "execution_count": 136,
   "metadata": {},
   "outputs": [
    {
     "data": {
      "text/plain": [
       "['Target',\n",
       " 'Salt Marsh Grass',\n",
       " 'Dirt or Vegetated Road',\n",
       " 'Dark Dune Vegetation',\n",
       " 'Sand(sandy road)',\n",
       " 'Sand(dunes)',\n",
       " 'Sand(beach)',\n",
       " 'Wet Sand',\n",
       " 'Submerged Sand']"
      ]
     },
     "execution_count": 136,
     "metadata": {},
     "output_type": "execute_result"
    }
   ],
   "source": [
    "tlabels = [\"Target\",\n",
    "           \"Salt Marsh Grass\",\n",
    "           \"Dirt or Vegetated Road\",\n",
    "           \"Dark Dune Vegetation\",\n",
    "           \"Sand(sandy road)\",\n",
    "           \"Sand(dunes)\",\n",
    "           \"Sand(beach)\",\n",
    "           \"Wet Sand\",\n",
    "           \"Submerged Sand\",\n",
    "          ]\n",
    "tlabels"
   ]
  },
  {
   "cell_type": "code",
   "execution_count": 137,
   "metadata": {},
   "outputs": [
    {
     "data": {
      "image/png": "[encoded data removed]",
      "text/plain": [
       "<Figure size 720x504 with 2 Axes>"
      ]
     },
     "metadata": {
      "needs_background": "light"
     },
     "output_type": "display_data"
    }
   ],
   "source": [
    "plt.figure(figsize=(10,7))\n",
    "cmap = colors.ListedColormap(['black','#006633', '#003300', '#666666','#CCCCCC','#CC9966', '#FF9900', '#996633', '#336699',])\n",
    "boundaries= np.arange(0, 10, 1)\n",
    "norm = colors.BoundaryNorm(boundaries, cmap.N, clip=True)\n",
    "plt.scatter(x, y, s= 100, c= z, cmap=cmap, norm=norm)\n",
    "cbar = plt.colorbar(ticks= ticks)\n",
    "cbar.ax.set_yticklabels(tlabels)\n",
    "plt.xlabel(\"Elevation(m)\")\n",
    "plt.ylabel(\"BareEarth-Transect(m)\")\n",
    "plt.savefig(\"BareEarth-Transect_vs_Elev_Scatter_Plot.png\")"
   ]
  },
  {
   "cell_type": "code",
   "execution_count": 138,
   "metadata": {
    "scrolled": true
   },
   "outputs": [
    {
     "data": {
      "text/html": [
       "<div>\n",
       "<style scoped>\n",
       "    .dataframe tbody tr th:only-of-type {\n",
       "        vertical-align: middle;\n",
       "    }\n",
       "\n",
       "    .dataframe tbody tr th {\n",
       "        vertical-align: top;\n",
       "    }\n",
       "\n",
       "    .dataframe thead th {\n",
       "        text-align: right;\n",
       "    }\n",
       "</style>\n",
       "<table border=\"1\" class=\"dataframe\">\n",
       "  <thead>\n",
       "    <tr style=\"text-align: right;\">\n",
       "      <th></th>\n",
       "      <th>Point ID</th>\n",
       "      <th>Local_N</th>\n",
       "      <th>Local_E</th>\n",
       "      <th>Local_Z</th>\n",
       "      <th>1mgrid_Z</th>\n",
       "      <th>BareEarth_Z</th>\n",
       "      <th>Classification</th>\n",
       "      <th>Elevation Difference</th>\n",
       "    </tr>\n",
       "  </thead>\n",
       "  <tbody>\n",
       "    <tr>\n",
       "      <th>count</th>\n",
       "      <td>235.000000</td>\n",
       "      <td>2.350000e+02</td>\n",
       "      <td>235.000000</td>\n",
       "      <td>235.000000</td>\n",
       "      <td>235.000000</td>\n",
       "      <td>235.000000</td>\n",
       "      <td>235.000000</td>\n",
       "      <td>235.000000</td>\n",
       "    </tr>\n",
       "    <tr>\n",
       "      <th>mean</th>\n",
       "      <td>126.051064</td>\n",
       "      <td>4.621207e+06</td>\n",
       "      <td>386110.943208</td>\n",
       "      <td>4.331120</td>\n",
       "      <td>4.410966</td>\n",
       "      <td>4.401272</td>\n",
       "      <td>4.221277</td>\n",
       "      <td>0.070153</td>\n",
       "    </tr>\n",
       "    <tr>\n",
       "      <th>std</th>\n",
       "      <td>70.292228</td>\n",
       "      <td>2.601504e+02</td>\n",
       "      <td>148.778683</td>\n",
       "      <td>3.243622</td>\n",
       "      <td>3.237115</td>\n",
       "      <td>3.233730</td>\n",
       "      <td>1.685146</td>\n",
       "      <td>0.059491</td>\n",
       "    </tr>\n",
       "    <tr>\n",
       "      <th>min</th>\n",
       "      <td>5.000000</td>\n",
       "      <td>4.620627e+06</td>\n",
       "      <td>385862.809500</td>\n",
       "      <td>-0.900000</td>\n",
       "      <td>-0.927630</td>\n",
       "      <td>-0.929000</td>\n",
       "      <td>0.000000</td>\n",
       "      <td>-0.296000</td>\n",
       "    </tr>\n",
       "    <tr>\n",
       "      <th>25%</th>\n",
       "      <td>66.000000</td>\n",
       "      <td>4.621087e+06</td>\n",
       "      <td>385986.562550</td>\n",
       "      <td>1.698000</td>\n",
       "      <td>1.830970</td>\n",
       "      <td>1.828000</td>\n",
       "      <td>4.000000</td>\n",
       "      <td>0.037900</td>\n",
       "    </tr>\n",
       "    <tr>\n",
       "      <th>50%</th>\n",
       "      <td>126.000000</td>\n",
       "      <td>4.621231e+06</td>\n",
       "      <td>386108.424400</td>\n",
       "      <td>2.969000</td>\n",
       "      <td>3.018600</td>\n",
       "      <td>3.018000</td>\n",
       "      <td>5.000000</td>\n",
       "      <td>0.059000</td>\n",
       "    </tr>\n",
       "    <tr>\n",
       "      <th>75%</th>\n",
       "      <td>185.500000</td>\n",
       "      <td>4.621393e+06</td>\n",
       "      <td>386195.934950</td>\n",
       "      <td>6.332700</td>\n",
       "      <td>6.407500</td>\n",
       "      <td>6.403000</td>\n",
       "      <td>5.000000</td>\n",
       "      <td>0.092000</td>\n",
       "    </tr>\n",
       "    <tr>\n",
       "      <th>max</th>\n",
       "      <td>248.000000</td>\n",
       "      <td>4.621627e+06</td>\n",
       "      <td>386414.320800</td>\n",
       "      <td>15.370000</td>\n",
       "      <td>15.364600</td>\n",
       "      <td>15.348000</td>\n",
       "      <td>8.000000</td>\n",
       "      <td>0.325000</td>\n",
       "    </tr>\n",
       "  </tbody>\n",
       "</table>\n",
       "</div>"
      ],
      "text/plain": [
       "         Point ID       Local_N        Local_E     Local_Z    1mgrid_Z  \\\n",
       "count  235.000000  2.350000e+02     235.000000  235.000000  235.000000   \n",
       "mean   126.051064  4.621207e+06  386110.943208    4.331120    4.410966   \n",
       "std     70.292228  2.601504e+02     148.778683    3.243622    3.237115   \n",
       "min      5.000000  4.620627e+06  385862.809500   -0.900000   -0.927630   \n",
       "25%     66.000000  4.621087e+06  385986.562550    1.698000    1.830970   \n",
       "50%    126.000000  4.621231e+06  386108.424400    2.969000    3.018600   \n",
       "75%    185.500000  4.621393e+06  386195.934950    6.332700    6.407500   \n",
       "max    248.000000  4.621627e+06  386414.320800   15.370000   15.364600   \n",
       "\n",
       "       BareEarth_Z  Classification  Elevation Difference  \n",
       "count   235.000000      235.000000            235.000000  \n",
       "mean      4.401272        4.221277              0.070153  \n",
       "std       3.233730        1.685146              0.059491  \n",
       "min      -0.929000        0.000000             -0.296000  \n",
       "25%       1.828000        4.000000              0.037900  \n",
       "50%       3.018000        5.000000              0.059000  \n",
       "75%       6.403000        5.000000              0.092000  \n",
       "max      15.348000        8.000000              0.325000  "
      ]
     },
     "execution_count": 138,
     "metadata": {},
     "output_type": "execute_result"
    }
   ],
   "source": [
    "df3.describe()"
   ]
  },
  {
   "cell_type": "code",
   "execution_count": 142,
   "metadata": {},
   "outputs": [
    {
     "data": {
      "text/plain": [
       "{0: 'Target',\n",
       " 1: 'Salt Marsh Grass',\n",
       " 2: 'Dirt or Vegetated Road',\n",
       " 3: 'Dark Dune Vegetation',\n",
       " 4: 'Sand(sandy road)',\n",
       " 5: 'Sand(dunes)',\n",
       " 6: 'Sand(beach)',\n",
       " 7: 'Wet Sand',\n",
       " 8: 'Submerged Sand'}"
      ]
     },
     "execution_count": 142,
     "metadata": {},
     "output_type": "execute_result"
    }
   ],
   "source": [
    "classes = {0:\"Target\",\n",
    "           1:\"Salt Marsh Grass\",\n",
    "           2:\"Dirt or Vegetated Road\",\n",
    "           3:\"Dark Dune Vegetation\",\n",
    "           4:\"Sand(sandy road)\",\n",
    "           5:\"Sand(dunes)\",\n",
    "           6:\"Sand(beach)\",\n",
    "           7:\"Wet Sand\",\n",
    "           8:\"Submerged Sand\",\n",
    "          }\n",
    "classes"
   ]
  },
  {
   "cell_type": "code",
   "execution_count": 140,
   "metadata": {},
   "outputs": [
    {
     "data": {
      "text/plain": [
       "array([-4.00000000e-01, -3.50000000e-01, -3.00000000e-01, -2.50000000e-01,\n",
       "       -2.00000000e-01, -1.50000000e-01, -1.00000000e-01, -5.00000000e-02,\n",
       "       -1.11022302e-16,  5.00000000e-02,  1.00000000e-01,  1.50000000e-01,\n",
       "        2.00000000e-01,  2.50000000e-01,  3.00000000e-01,  3.50000000e-01,\n",
       "        4.00000000e-01])"
      ]
     },
     "execution_count": 140,
     "metadata": {},
     "output_type": "execute_result"
    }
   ],
   "source": [
    "binedges= np.arange(-.4,.45, .05)\n",
    "binedges"
   ]
  },
  {
   "cell_type": "code",
   "execution_count": 141,
   "metadata": {},
   "outputs": [
    {
     "name": "stdout",
     "output_type": "stream",
     "text": [
      "0 Target\n",
      "count    1.000\n",
      "mean     0.109\n",
      "std        NaN\n",
      "min      0.109\n",
      "25%      0.109\n",
      "50%      0.109\n",
      "75%      0.109\n",
      "max      0.109\n",
      "Name: Elevation Difference, dtype: float64\n",
      "rmse= 0.10900000000000176\n",
      "1 Salt Marsh Grass\n",
      "count    43.000000\n",
      "mean      0.138140\n",
      "std       0.065118\n",
      "min       0.036000\n",
      "25%       0.076000\n",
      "50%       0.145000\n",
      "75%       0.173000\n",
      "max       0.325000\n",
      "Name: Elevation Difference, dtype: float64\n",
      "rmse= 0.1523949886254122\n",
      "2 Dirt or Vegetated Road\n",
      "count    3.000000\n",
      "mean     0.061333\n",
      "std      0.002517\n",
      "min      0.059000\n",
      "25%      0.060000\n",
      "50%      0.061000\n",
      "75%      0.062500\n",
      "max      0.064000\n",
      "Name: Elevation Difference, dtype: float64\n",
      "rmse= 0.06136774397026502\n",
      "3 Dark Dune Vegetation\n",
      "count    3.000000\n",
      "mean     0.076667\n",
      "std      0.016258\n",
      "min      0.059000\n",
      "25%      0.069500\n",
      "50%      0.080000\n",
      "75%      0.085500\n",
      "max      0.091000\n",
      "Name: Elevation Difference, dtype: float64\n",
      "rmse= 0.077807454655708\n",
      "4 Sand(sandy road)\n",
      "count    14.000000\n",
      "mean      0.044143\n",
      "std       0.030742\n",
      "min       0.018000\n",
      "25%       0.025000\n",
      "50%       0.030000\n",
      "75%       0.054500\n",
      "max       0.113000\n",
      "Name: Elevation Difference, dtype: float64\n",
      "rmse= 0.05316147907218951\n",
      "5 Sand(dunes)\n",
      "count    155.000000\n",
      "mean       0.058126\n",
      "std        0.047057\n",
      "min       -0.296000\n",
      "25%        0.037900\n",
      "50%        0.055000\n",
      "75%        0.080500\n",
      "max        0.211000\n",
      "Name: Elevation Difference, dtype: float64\n",
      "rmse= 0.07469103327450292\n",
      "6 Sand(beach)\n",
      "count    11.000000\n",
      "mean      0.044482\n",
      "std       0.032324\n",
      "min      -0.003000\n",
      "25%       0.020000\n",
      "50%       0.045100\n",
      "75%       0.062500\n",
      "max       0.107000\n",
      "Name: Elevation Difference, dtype: float64\n",
      "rmse= 0.05411572616330503\n",
      "7 Wet Sand\n",
      "count    3.000000\n",
      "mean     0.001667\n",
      "std      0.035162\n",
      "min     -0.038000\n",
      "25%     -0.012000\n",
      "50%      0.014000\n",
      "75%      0.021500\n",
      "max      0.029000\n",
      "Name: Elevation Difference, dtype: float64\n",
      "rmse= 0.028757607689096812\n",
      "8 Submerged Sand\n",
      "count    2.000000\n",
      "mean    -0.049500\n",
      "std      0.028991\n",
      "min     -0.070000\n",
      "25%     -0.059750\n",
      "50%     -0.049500\n",
      "75%     -0.039250\n",
      "max     -0.029000\n",
      "Name: Elevation Difference, dtype: float64\n",
      "rmse= 0.053577047324390704\n"
     ]
    },
    {
     "data": {
      "image/png": "[encoded data removed]",
      "text/plain": [
       "<Figure size 432x288 with 1 Axes>"
      ]
     },
     "metadata": {
      "needs_background": "light"
     },
     "output_type": "display_data"
    },
    {
     "data": {
      "image/png": "[encoded data removed]",
      "text/plain": [
       "<Figure size 432x288 with 1 Axes>"
      ]
     },
     "metadata": {
      "needs_background": "light"
     },
     "output_type": "display_data"
    },
    {
     "data": {
      "image/png": "[encoded data removed]",
      "text/plain": [
       "<Figure size 432x288 with 1 Axes>"
      ]
     },
     "metadata": {
      "needs_background": "light"
     },
     "output_type": "display_data"
    },
    {
     "data": {
      "image/png": "[encoded data removed]",
      "text/plain": [
       "<Figure size 432x288 with 1 Axes>"
      ]
     },
     "metadata": {
      "needs_background": "light"
     },
     "output_type": "display_data"
    },
    {
     "data": {
      "image/png": "[encoded data removed]",
      "text/plain": [
       "<Figure size 432x288 with 1 Axes>"
      ]
     },
     "metadata": {
      "needs_background": "light"
     },
     "output_type": "display_data"
    },
    {
     "data": {
      "image/png": "[encoded data removed]",
      "text/plain": [
       "<Figure size 432x288 with 1 Axes>"
      ]
     },
     "metadata": {
      "needs_background": "light"
     },
     "output_type": "display_data"
    },
    {
     "data": {
      "image/png": "[encoded data removed]",
      "text/plain": [
       "<Figure size 432x288 with 1 Axes>"
      ]
     },
     "metadata": {
      "needs_background": "light"
     },
     "output_type": "display_data"
    },
    {
     "data": {
      "image/png": "[encoded data removed]",
      "text/plain": [
       "<Figure size 432x288 with 1 Axes>"
      ]
     },
     "metadata": {
      "needs_background": "light"
     },
     "output_type": "display_data"
    },
    {
     "data": {
      "image/png": "[encoded data removed]",
      "text/plain": [
       "<Figure size 432x288 with 1 Axes>"
      ]
     },
     "metadata": {
      "needs_background": "light"
     },
     "output_type": "display_data"
    }
   ],
   "source": [
    "for i in range(0,9):\n",
    "    print(i, classes[i])\n",
    "    print(df3[\"Elevation Difference\"].loc[df3[\"Classification\"]==i].describe())\n",
    "    val = df3[\"Elevation Difference\"].loc[df3[\"Classification\"]==i].values\n",
    "    rmse=np.sqrt(np.mean(val**2))\n",
    "    print(\"rmse=\",rmse)\n",
    "    pfn3 = \"Hist{:01d}.png\".format(i)\n",
    "    plt.figure(figsize= (6,4))\n",
    "    plt.hist(val, bins= binedges)\n",
    "    plt.xlim((-.4,.4))\n",
    "    plt.title(classes[i])\n",
    "    plt.savefig(pfn3)"
   ]
  }
 ],
 "metadata": {
  "kernelspec": {
   "display_name": "Python 3",
   "language": "python",
   "name": "python3"
  },
  "language_info": {
   "codemirror_mode": {
    "name": "ipython",
    "version": 3
   },
   "file_extension": ".py",
   "mimetype": "text/x-python",
   "name": "python",
   "nbconvert_exporter": "python",
   "pygments_lexer": "ipython3",
   "version": "3.7.3"
  }
 },
 "nbformat": 4,
 "nbformat_minor": 2
}
